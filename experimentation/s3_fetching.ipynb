{
 "cells": [
  {
   "cell_type": "code",
   "execution_count": 2,
   "metadata": {},
   "outputs": [
    {
     "data": {
      "text/plain": [
       "'spark-3.5.1-bin-hadoop3'"
      ]
     },
     "execution_count": 2,
     "metadata": {},
     "output_type": "execute_result"
    }
   ],
   "source": [
    "import os\n",
    "import findspark\n",
    "import boto3\n",
    "os.environ[\"JAVA_HOME\"] = \"/Library/Java/JavaVirtualMachines/temurin-22.jdk/Contents/Home\"\n",
    "os.environ[\"SPARK_HOME\"] = \"spark-3.5.1-bin-hadoop3\"\n",
    "findspark.init()\n",
    "findspark.find() # Should return '/content/spark-3.5.1-bin-hadoop3'"
   ]
  },
  {
   "cell_type": "code",
   "execution_count": 3,
   "metadata": {},
   "outputs": [
    {
     "name": "stderr",
     "output_type": "stream",
     "text": [
      "24/05/04 00:29:19 WARN Utils: Your hostname, Joses-MacBook-Pro.local resolves to a loopback address: 127.0.0.1; using 172.20.10.4 instead (on interface en0)\n",
      "24/05/04 00:29:19 WARN Utils: Set SPARK_LOCAL_IP if you need to bind to another address\n",
      "Setting default log level to \"WARN\".\n",
      "To adjust logging level use sc.setLogLevel(newLevel). For SparkR, use setLogLevel(newLevel).\n",
      "24/05/04 00:29:19 WARN NativeCodeLoader: Unable to load native-hadoop library for your platform... using builtin-java classes where applicable\n"
     ]
    },
    {
     "data": {
      "text/html": [
       "\n",
       "        <div>\n",
       "            <p><b>SparkContext</b></p>\n",
       "\n",
       "            <p><a href=\"http://172.20.10.4:4050\">Spark UI</a></p>\n",
       "\n",
       "            <dl>\n",
       "              <dt>Version</dt>\n",
       "                <dd><code>v3.5.1</code></dd>\n",
       "              <dt>Master</dt>\n",
       "                <dd><code>local</code></dd>\n",
       "              <dt>AppName</dt>\n",
       "                <dd><code>Colab</code></dd>\n",
       "            </dl>\n",
       "        </div>\n",
       "        "
      ],
      "text/plain": [
       "<SparkContext master=local appName=Colab>"
      ]
     },
     "execution_count": 3,
     "metadata": {},
     "output_type": "execute_result"
    }
   ],
   "source": [
    "from pyspark import SparkContext\n",
    "from pyspark.sql import SparkSession\n",
    "from pyspark.sql.functions import *\n",
    "\n",
    "SparkContext.setSystemProperty('spark.executor.memory', '2g')\n",
    "\n",
    "spark = (\n",
    "    SparkSession.builder.master(\"local\")\n",
    "    .appName(\"Colab\")\n",
    "    .config(\"spark.ui.port\", \"4050\")\n",
    "    .getOrCreate()\n",
    ")\n",
    "sc = spark.sparkContext\n",
    "\n",
    "sc"
   ]
  },
  {
   "cell_type": "code",
   "execution_count": 4,
   "metadata": {},
   "outputs": [],
   "source": [
    "session = boto3.Session(\n",
    "    aws_access_key_id=os.environ[\"CUBBIT_ACCESS_KEY_ID\"],\n",
    "    aws_secret_access_key=os.environ[\"CUBBIT_SECRET_ACCESS_KEY\"],\n",
    "    region_name=\"eu-west-1\",\n",
    ")\n",
    "\n",
    "s3 = session.client(\"s3\", endpoint_url=\"https://s3.cubbit.eu\")"
   ]
  },
  {
   "cell_type": "code",
   "execution_count": 5,
   "metadata": {},
   "outputs": [],
   "source": [
    "drivers_parquet = s3.download_file(Bucket=\"f1-bucket\", Key=\"drivers.parquet\", Filename=\"./data/drivers.parquet\")"
   ]
  },
  {
   "cell_type": "code",
   "execution_count": 6,
   "metadata": {},
   "outputs": [
    {
     "name": "stderr",
     "output_type": "stream",
     "text": [
      "                                                                                \r"
     ]
    }
   ],
   "source": [
    "df = spark.read.parquet('./data/drivers.parquet')"
   ]
  },
  {
   "cell_type": "code",
   "execution_count": 7,
   "metadata": {},
   "outputs": [
    {
     "name": "stderr",
     "output_type": "stream",
     "text": [
      "                                                                                \r"
     ]
    },
    {
     "name": "stdout",
     "output_type": "stream",
     "text": [
      "+-------------+-----------------+------------+---------------+------------+-----------+-----------+\n",
      "|driver_number|        full_name|name_acronym|      team_name|country_code|session_key|meeting_key|\n",
      "+-------------+-----------------+------------+---------------+------------+-----------+-----------+\n",
      "|            1|   Max VERSTAPPEN|         VER|Red Bull Racing|         NED|       7763|       1140|\n",
      "|            2|   Logan SARGEANT|         SAR|       Williams|         USA|       7763|       1140|\n",
      "|            3| Daniel RICCIARDO|         RIC|     AlphaTauri|         AUS|       9127|       1215|\n",
      "|            4|     Lando NORRIS|         NOR|        McLaren|         GBR|       7763|       1140|\n",
      "|            5|Gabriel BORTOLETO|         BOR|           NULL|        NULL|       9223|       1215|\n",
      "|            6|    Oliver GOETHE|         GOE|           NULL|        NULL|       9223|       1215|\n",
      "|            7| Kaylen FREDERICK|         FRE|           NULL|        NULL|       9223|       1215|\n",
      "|            8|   Gregoire SAUCY|         SAU|           NULL|        NULL|       9223|       1215|\n",
      "|            9|    Nikola TSOLOV|         TSO|           NULL|        NULL|       9223|       1215|\n",
      "|           10|     Pierre GASLY|         GAS|         Alpine|         FRA|       7763|       1140|\n",
      "|           11|     Sergio PEREZ|         PER|Red Bull Racing|         MEX|       7763|       1140|\n",
      "|           12|      Jonny EDGAR|         EDG|           NULL|        NULL|       9223|       1215|\n",
      "|           14|  Fernando ALONSO|         ALO|   Aston Martin|         ESP|       7763|       1140|\n",
      "|           15|    Gabriele MINI|         MIN|           NULL|        NULL|       9223|       1215|\n",
      "|           16|  Charles LECLERC|         LEC|        Ferrari|         MON|       7763|       1140|\n",
      "|           17|      Caio COLLET|         CCO|           NULL|        NULL|       9223|       1215|\n",
      "|           18|     Lance STROLL|         STR|   Aston Martin|         CAN|       7765|       1141|\n",
      "|           19|      Tommy SMITH|         SMI|           NULL|        NULL|       9223|       1215|\n",
      "|           20|  Kevin MAGNUSSEN|         MAG|   Haas F1 Team|         DEN|       7763|       1140|\n",
      "|           21|    Nyck DE VRIES|         DEV|     AlphaTauri|         NED|       7763|       1140|\n",
      "|           22|     Yuki TSUNODA|         TSU|     AlphaTauri|         JPN|       7763|       1140|\n",
      "|           23|  Alexander ALBON|         ALB|       Williams|         THA|       7764|       1140|\n",
      "|           24|      ZHOU Guanyu|         ZHO|     Alfa Romeo|         CHN|       7763|       1140|\n",
      "|           25|      Hugh BARTER|         HBA|           NULL|        NULL|       9223|       1215|\n",
      "|           26|    Nikita BEDRIN|         BED|           NULL|        NULL|       9223|       1215|\n",
      "|           27|  Nico HULKENBERG|         HUL|   Haas F1 Team|         GER|       7763|       1140|\n",
      "|           28| Alejandro GARCIA|         GAR|           NULL|        NULL|       9223|       1215|\n",
      "|           29|  Sophia FLOERSCH|         FLO|           NULL|        NULL|       9223|       1215|\n",
      "|           30|    Roberto FARIA|         FAR|           NULL|        NULL|       9223|       1215|\n",
      "|           31|     Esteban OCON|         OCO|         Alpine|         FRA|       7763|       1140|\n",
      "|           34| Felipe DRUGOVICH|         DRU|   Aston Martin|         BRA|       7764|       1140|\n",
      "|           36|      Jake DENNIS|         DEN|Red Bull Racing|         GBR|       9190|       1226|\n",
      "|           37|     Isack HADJAR|         HAD|Red Bull Racing|         FRA|       9190|       1226|\n",
      "|           38|   Oliver BEARMAN|         BEA|        Ferrari|         GBR|       9475|       1230|\n",
      "|           39|Robert SHWARTZMAN|         SHW|           NULL|        NULL|       9142|       1217|\n",
      "|           40|      Liam LAWSON|         LAW|     AlphaTauri|         NZL|       9144|       1217|\n",
      "|           41|     Isack HADJAR|         HAD|     AlphaTauri|         FRA|       9174|       1223|\n",
      "|           42|   Frederik VESTI|         VES|       Mercedes|         DEN|       9174|       1223|\n",
      "|           44|   Lewis HAMILTON|         HAM|       Mercedes|         GBR|       7763|       1140|\n",
      "|           45|   Zak O'SULLIVAN|         OSU|       Williams|         GBR|       9190|       1226|\n",
      "|           50|   Oliver BEARMAN|         BEA|   Haas F1 Team|         GBR|       9174|       1223|\n",
      "|           55|     Carlos SAINZ|         SAI|        Ferrari|         ESP|       7763|       1140|\n",
      "|           61|      Jack DOOHAN|         DOO|         Alpine|         AUS|       9174|       1223|\n",
      "|           63|   George RUSSELL|         RUS|       Mercedes|         GBR|       7763|       1140|\n",
      "|           77|  Valtteri BOTTAS|         BOT|     Alfa Romeo|         FIN|       7764|       1140|\n",
      "|           81|    Oscar PIASTRI|         PIA|        McLaren|         AUS|       7763|       1140|\n",
      "|           98|  Theo POURCHAIRE|         POU|     Alfa Romeo|         FRA|       9174|       1223|\n",
      "+-------------+-----------------+------------+---------------+------------+-----------+-----------+\n",
      "\n"
     ]
    }
   ],
   "source": [
    "non_duplicates = df.dropDuplicates(['driver_number'])\n",
    "non_duplicates.show(47)"
   ]
  },
  {
   "cell_type": "code",
   "execution_count": 8,
   "metadata": {},
   "outputs": [
    {
     "name": "stdout",
     "output_type": "stream",
     "text": [
      "+------------+----------+-------------+--------------------+-----------+-----------+\n",
      "|pit_duration|lap_number|driver_number|                date|session_key|meeting_key|\n",
      "+------------+----------+-------------+--------------------+-----------+-----------+\n",
      "|        35.3|         3|           14|2023-06-02T11:33:...|       9095|       1211|\n",
      "|        40.8|         4|           18|2023-06-02T11:35:...|       9095|       1211|\n",
      "|       155.2|         3|           21|2023-06-02T11:36:...|       9095|       1211|\n",
      "|       277.0|         2|            2|2023-06-02T11:37:...|       9095|       1211|\n",
      "|        27.6|         5|           16|2023-06-02T11:37:...|       9095|       1211|\n",
      "|       343.6|         2|           81|2023-06-02T11:38:...|       9095|       1211|\n",
      "|        24.9|         6|           11|2023-06-02T11:38:...|       9095|       1211|\n",
      "|        47.4|         6|           20|2023-06-02T11:38:...|       9095|       1211|\n",
      "|       381.5|         2|            4|2023-06-02T11:39:...|       9095|       1211|\n",
      "|        23.5|         6|            1|2023-06-02T11:39:...|       9095|       1211|\n",
      "|        40.8|         6|           27|2023-06-02T11:40:...|       9095|       1211|\n",
      "|       517.4|         3|           77|2023-06-02T11:42:...|       9095|       1211|\n",
      "|       298.0|         5|           18|2023-06-02T11:42:...|       9095|       1211|\n",
      "|        25.1|         9|           23|2023-06-02T11:44:...|       9095|       1211|\n",
      "|       623.1|         3|           24|2023-06-02T11:44:...|       9095|       1211|\n",
      "|       245.8|         8|           22|2023-06-02T11:45:...|       9095|       1211|\n",
      "|        23.1|        11|           16|2023-06-02T11:46:...|       9095|       1211|\n",
      "|        23.0|        12|           55|2023-06-02T11:46:...|       9095|       1211|\n",
      "|       439.9|         5|           21|2023-06-02T11:47:...|       9095|       1211|\n",
      "|        24.9|         9|            2|2023-06-02T11:47:...|       9095|       1211|\n",
      "+------------+----------+-------------+--------------------+-----------+-----------+\n",
      "only showing top 20 rows\n",
      "\n"
     ]
    }
   ],
   "source": [
    "s3.download_file(Bucket=\"f1-bucket\", Key=\"pit.parquet\", Filename=\"./data/pit.parquet\")\n",
    "\n",
    "df_pit = spark.read.parquet('./data/pit.parquet')\n",
    "df_pit.show()"
   ]
  },
  {
   "cell_type": "code",
   "execution_count": 9,
   "metadata": {},
   "outputs": [
    {
     "name": "stdout",
     "output_type": "stream",
     "text": [
      "+------------+----------+-------------+-----------+\n",
      "|pit_duration|lap_number|driver_number|session_key|\n",
      "+------------+----------+-------------+-----------+\n",
      "|        35.3|         3|           14|       9095|\n",
      "|        40.8|         4|           18|       9095|\n",
      "|       155.2|         3|           21|       9095|\n",
      "|       277.0|         2|            2|       9095|\n",
      "|        27.6|         5|           16|       9095|\n",
      "|       343.6|         2|           81|       9095|\n",
      "|        24.9|         6|           11|       9095|\n",
      "|        47.4|         6|           20|       9095|\n",
      "|       381.5|         2|            4|       9095|\n",
      "|        23.5|         6|            1|       9095|\n",
      "|        40.8|         6|           27|       9095|\n",
      "|       517.4|         3|           77|       9095|\n",
      "|       298.0|         5|           18|       9095|\n",
      "|        25.1|         9|           23|       9095|\n",
      "|       623.1|         3|           24|       9095|\n",
      "|       245.8|         8|           22|       9095|\n",
      "|        23.1|        11|           16|       9095|\n",
      "|        23.0|        12|           55|       9095|\n",
      "|       439.9|         5|           21|       9095|\n",
      "|        24.9|         9|            2|       9095|\n",
      "+------------+----------+-------------+-----------+\n",
      "only showing top 20 rows\n",
      "\n"
     ]
    }
   ],
   "source": [
    "cols_to_drop = ['date', 'meeting_key']\n",
    "\n",
    "filtered_df_pit = df_pit.drop(*cols_to_drop)\n",
    "filtered_df_pit.show()"
   ]
  },
  {
   "cell_type": "code",
   "execution_count": 21,
   "metadata": {},
   "outputs": [
    {
     "name": "stdout",
     "output_type": "stream",
     "text": [
      "+---------+-----------+------------+------------+-----------+------------------+------------+------------+--------------------+--------------------+----------+-----------+-----------+----+\n",
      "| location|country_key|country_code|country_name|circuit_key|circuit_short_name|session_type|session_name|          date_start|            date_end|gmt_offset|session_key|meeting_key|year|\n",
      "+---------+-----------+------------+------------+-----------+------------------+------------+------------+--------------------+--------------------+----------+-----------+-----------+----+\n",
      "|   Sakhir|         36|         BRN|     Bahrain|         63|            Sakhir|    Practice|  Practice 1|2023-02-23T07:00:...|2023-02-23T16:30:...|  03:00:00|       9222|       1140|2023|\n",
      "|   Sakhir|         36|         BRN|     Bahrain|         63|            Sakhir|    Practice|  Practice 2|2023-02-24T07:00:...|2023-02-24T16:30:...|  03:00:00|       7763|       1140|2023|\n",
      "|   Sakhir|         36|         BRN|     Bahrain|         63|            Sakhir|    Practice|  Practice 3|2023-02-25T07:00:...|2023-02-25T16:30:...|  03:00:00|       7764|       1140|2023|\n",
      "|   Sakhir|         36|         BRN|     Bahrain|         63|            Sakhir|    Practice|  Practice 1|2023-03-03T11:30:...|2023-03-03T12:30:...|  03:00:00|       7765|       1141|2023|\n",
      "|   Sakhir|         36|         BRN|     Bahrain|         63|            Sakhir|    Practice|  Practice 2|2023-03-03T15:00:...|2023-03-03T16:00:...|  03:00:00|       7766|       1141|2023|\n",
      "|   Sakhir|         36|         BRN|     Bahrain|         63|            Sakhir|    Practice|  Practice 3|2023-03-04T11:30:...|2023-03-04T12:30:...|  03:00:00|       7767|       1141|2023|\n",
      "|   Sakhir|         36|         BRN|     Bahrain|         63|            Sakhir|  Qualifying|  Qualifying|2023-03-04T15:00:...|2023-03-04T16:00:...|  03:00:00|       7768|       1141|2023|\n",
      "|   Sakhir|         36|         BRN|     Bahrain|         63|            Sakhir|        Race|        Race|2023-03-05T15:00:...|2023-03-05T17:00:...|  03:00:00|       7953|       1141|2023|\n",
      "|   Jeddah|        153|         KSA|Saudi Arabia|        149|            Jeddah|    Practice|  Practice 1|2023-03-17T13:30:...|2023-03-17T14:30:...|  03:00:00|       7772|       1142|2023|\n",
      "|   Jeddah|        153|         KSA|Saudi Arabia|        149|            Jeddah|    Practice|  Practice 2|2023-03-17T17:00:...|2023-03-17T18:00:...|  03:00:00|       7773|       1142|2023|\n",
      "|   Jeddah|        153|         KSA|Saudi Arabia|        149|            Jeddah|    Practice|  Practice 3|2023-03-18T13:30:...|2023-03-18T14:30:...|  03:00:00|       7774|       1142|2023|\n",
      "|   Jeddah|        153|         KSA|Saudi Arabia|        149|            Jeddah|  Qualifying|  Qualifying|2023-03-18T17:00:...|2023-03-18T18:00:...|  03:00:00|       7775|       1142|2023|\n",
      "|   Jeddah|        153|         KSA|Saudi Arabia|        149|            Jeddah|        Race|        Race|2023-03-19T17:00:...|2023-03-19T19:00:...|  03:00:00|       7779|       1142|2023|\n",
      "|Melbourne|          5|         AUS|   Australia|         10|         Melbourne|    Practice|  Practice 1|2023-03-31T01:30:...|2023-03-31T02:30:...|  11:00:00|       7780|       1143|2023|\n",
      "|Melbourne|          5|         AUS|   Australia|         10|         Melbourne|    Practice|  Practice 2|2023-03-31T05:00:...|2023-03-31T06:00:...|  11:00:00|       7781|       1143|2023|\n",
      "|Melbourne|          5|         AUS|   Australia|         10|         Melbourne|    Practice|  Practice 3|2023-04-01T01:30:...|2023-04-01T02:30:...|  11:00:00|       7782|       1143|2023|\n",
      "|Melbourne|          5|         AUS|   Australia|         10|         Melbourne|  Qualifying|  Qualifying|2023-04-01T05:00:...|2023-04-01T06:00:...|  11:00:00|       7783|       1143|2023|\n",
      "|Melbourne|          5|         AUS|   Australia|         10|         Melbourne|        Race|        Race|2023-04-02T05:00:...|2023-04-02T07:00:...|  10:00:00|       7787|       1143|2023|\n",
      "|     Baku|         30|         AZE|  Azerbaijan|        144|              Baku|    Practice|  Practice 1|2023-04-28T09:30:...|2023-04-28T10:30:...|  04:00:00|       9063|       1207|2023|\n",
      "|     Baku|         30|         AZE|  Azerbaijan|        144|              Baku|  Qualifying|  Qualifying|2023-04-28T13:00:...|2023-04-28T14:00:...|  04:00:00|       9064|       1207|2023|\n",
      "+---------+-----------+------------+------------+-----------+------------------+------------+------------+--------------------+--------------------+----------+-----------+-----------+----+\n",
      "only showing top 20 rows\n",
      "\n"
     ]
    }
   ],
   "source": [
    "# s3.download_file(Bucket=\"f1-bucket\", Key=\"sessions.parquet\", Filename=\"./data/sessions.parquet\")\n",
    "\n",
    "df_sessions = spark.read.parquet('./data/sessions.parquet')\n",
    "df_sessions.show()"
   ]
  },
  {
   "cell_type": "code",
   "execution_count": 22,
   "metadata": {},
   "outputs": [
    {
     "name": "stdout",
     "output_type": "stream",
     "text": [
      "+--------+-------------+--------------------+-----------+-----------+\n",
      "|position|driver_number|                date|session_key|meeting_key|\n",
      "+--------+-------------+--------------------+-----------+-----------+\n",
      "|       1|            1|2023-02-23T06:54:...|       9222|       1140|\n",
      "|       2|            1|2023-02-23T07:00:...|       9222|       1140|\n",
      "|       3|            1|2023-02-23T07:00:...|       9222|       1140|\n",
      "|       4|            1|2023-02-23T07:00:...|       9222|       1140|\n",
      "|       5|            1|2023-02-23T07:00:...|       9222|       1140|\n",
      "|       6|            1|2023-02-23T07:00:...|       9222|       1140|\n",
      "|       1|            1|2023-02-23T07:04:...|       9222|       1140|\n",
      "|       2|            1|2023-02-23T07:33:...|       9222|       1140|\n",
      "|       1|            1|2023-02-23T07:34:...|       9222|       1140|\n",
      "|       2|            1|2023-02-23T07:56:...|       9222|       1140|\n",
      "|       3|            1|2023-02-23T08:09:...|       9222|       1140|\n",
      "|       4|            1|2023-02-23T08:16:...|       9222|       1140|\n",
      "|       5|            1|2023-02-23T08:18:...|       9222|       1140|\n",
      "|       1|            1|2023-02-23T08:28:...|       9222|       1140|\n",
      "|       2|            1|2023-02-23T08:32:...|       9222|       1140|\n",
      "|       1|            1|2023-02-23T10:36:...|       9222|       1140|\n",
      "|       1|            1|2023-02-23T12:27:...|       9222|       1140|\n",
      "|       1|            1|2023-02-24T06:51:...|       7763|       1140|\n",
      "|       2|            1|2023-02-24T07:00:...|       7763|       1140|\n",
      "|       3|            1|2023-02-24T07:00:...|       7763|       1140|\n",
      "+--------+-------------+--------------------+-----------+-----------+\n",
      "only showing top 20 rows\n",
      "\n"
     ]
    },
    {
     "data": {
      "text/plain": [
       "104587"
      ]
     },
     "metadata": {},
     "output_type": "display_data"
    }
   ],
   "source": [
    "s3.download_file(Bucket=\"f1-bucket\", Key=\"position.parquet\", Filename=\"./data/position.parquet\")\n",
    "\n",
    "df_positions = spark.read.parquet('./data/position.parquet')\n",
    "df_positions.show()\n",
    "display(df_positions.count())"
   ]
  },
  {
   "cell_type": "code",
   "execution_count": null,
   "metadata": {},
   "outputs": [],
   "source": []
  }
 ],
 "metadata": {
  "kernelspec": {
   "display_name": ".venv",
   "language": "python",
   "name": "python3"
  },
  "language_info": {
   "codemirror_mode": {
    "name": "ipython",
    "version": 3
   },
   "file_extension": ".py",
   "mimetype": "text/x-python",
   "name": "python",
   "nbconvert_exporter": "python",
   "pygments_lexer": "ipython3",
   "version": "3.11.6"
  }
 },
 "nbformat": 4,
 "nbformat_minor": 2
}
